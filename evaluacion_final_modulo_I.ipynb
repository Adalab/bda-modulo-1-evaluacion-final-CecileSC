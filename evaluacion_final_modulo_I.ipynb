{
 "cells": [
  {
   "cell_type": "markdown",
   "metadata": {},
   "source": [
    "# Evaluación Final Módulo 1\n"
   ]
  },
  {
   "cell_type": "markdown",
   "metadata": {},
   "source": [
    "\n",
    "Instrucciones:\n",
    "Antes de empezar, hay que crear un nuevo repositorio desde GitHub Classroom usando este enlace. Una vez creado, hay que clonar en nuestro ordenador y en la carpeta creada empezaremos a trabajar en el ejercicio.\n",
    "\n",
    "Esta evaluación consta de una serie de preguntas que evalúan tu comprensión y habilidades en relación con funciones, clases y regex.\n",
    "\n",
    "Puedes usar recursos externos, incluyendo internet y materiales de referencia o tus propias notas.\n",
    "Completa los ejercicios en un jupyter notebook.\n"
   ]
  },
  {
   "cell_type": "markdown",
   "metadata": {},
   "source": [
    "## Ejercicio\n",
    "A lo largo de esta evaluación tendrás que crear una clase llamada TiendaOnline que cumpla los siguientes requisitos: \n",
    " - La clase TiendaOnline debe tener los siguientes atributos: \n",
    " \n",
    "   a. inventario (lista de diccionarios): Un atributo para almacenar los productos en el inventario. Cada producto debe ser representado como un diccionario con las siguientes claves: 'nombre' , 'precio' , y 'cantidad' .  Al principio deberá ser una lista vacía. Ejemplo de como debería ser: \n",
    "   \n",
    "  [{'nombre': 'Camisa', 'precio': 20, 'cantidad': 40}, \n",
    "  \n",
    "  {'nombre': 'Pantalón', 'precio': 30, 'cantidad': 30}]\n",
    "\n",
    "  b. clientes (diccionario): Un atributo para llevar un registro de los clientes de la tienda. Cada cliente debe ser representado como un diccionario con las siguientes claves: 'nombre' y 'email' . Al inicio deberá ser un diccionario vacío. Además, cada cliente debe tener un historial de compras. \n",
    "  \n",
    "  Deberá parecerse a: \n",
    "  \n",
    "  {'Cliente1': {'email': 'cliente1@email.com', 'compras': []},\n",
    "  \n",
    "    'Cliente2': {'email': 'cliente2@email.com', 'compras': []}}\n",
    "  \n",
    "c. ventas_totales (float): Un atributo para llevar un registro de las ventas totales de la tienda. Inicializalo con valor 0. \n"
   ]
  },
  {
   "cell_type": "code",
   "execution_count": 16,
   "metadata": {},
   "outputs": [],
   "source": [
    "class TiendaOnline:\n",
    "    def __init__(self, nombre): #defino el constructor\n",
    "        #defino los atributos en vacio menos el nombre\n",
    "        self.nombre = nombre\n",
    "        self.inventario =[] # una lista vacia para almacenar los productos\n",
    "        self.clientes = {} # un diccionario vacio para almacenar los clientes\n",
    "        self.ventas_totales = 0.0 # float que inicia las ventas totales en 0\n",
    "    \n",
    "    #defino los métodos\n",
    "    def agregar_productos(self, nombre_producto, precio, cantidad):\n",
    "        for producto in self.inventario:  #recorro el inventario para ver si existe el producto\n",
    "            if producto.get('nombre') == nombre_producto: #comprueba si el producto está. diccionario\n",
    "                producto['cantidad'] += cantidad #actualizo la cantidad por asig directa\n",
    "                print(f\"La cantidad es :\", {producto['cantidad']}, \"del producto\", {nombre_producto})\n",
    "                return #termina la funcion xq ya se ha actualizado\n",
    "            #si no está, lo añade al inventario\n",
    "        self.inventario.append({'nombre': nombre_producto,'precio': precio,'cantidad': cantidad})\n",
    "        print(f\"Nombre: {producto['nombre']}, Precio: ${producto['precio']}, Cantidad: {producto['cantidad']}\")\n",
    "\n",
    "    def ver_inventario(self):\n",
    "        for producto in self.inventario: \n",
    "            print(f\"Nombre: {producto['nombre']}, Precio: ${producto['precio']}, Cantidad: {producto['cantidad']}\")\n",
    "\n",
    "                \n",
    "\n"
   ]
  },
  {
   "cell_type": "code",
   "execution_count": 17,
   "metadata": {},
   "outputs": [
    {
     "ename": "UnboundLocalError",
     "evalue": "local variable 'producto' referenced before assignment",
     "output_type": "error",
     "traceback": [
      "\u001b[0;31m---------------------------------------------------------------------------\u001b[0m",
      "\u001b[0;31mUnboundLocalError\u001b[0m                         Traceback (most recent call last)",
      "Cell \u001b[0;32mIn[17], line 2\u001b[0m\n\u001b[1;32m      1\u001b[0m mi_tienda \u001b[38;5;241m=\u001b[39m TiendaOnline(\u001b[38;5;124m\"\u001b[39m\u001b[38;5;124mMi Tienda Online\u001b[39m\u001b[38;5;124m\"\u001b[39m)\n\u001b[0;32m----> 2\u001b[0m \u001b[43mmi_tienda\u001b[49m\u001b[38;5;241;43m.\u001b[39;49m\u001b[43magregar_productos\u001b[49m\u001b[43m(\u001b[49m\u001b[38;5;124;43m'\u001b[39;49m\u001b[38;5;124;43mcamisa\u001b[39;49m\u001b[38;5;124;43m'\u001b[39;49m\u001b[43m,\u001b[49m\u001b[43m \u001b[49m\u001b[38;5;241;43m120\u001b[39;49m\u001b[43m,\u001b[49m\u001b[43m \u001b[49m\u001b[38;5;241;43m5\u001b[39;49m\u001b[43m)\u001b[49m\n\u001b[1;32m      3\u001b[0m mi_tienda\u001b[38;5;241m.\u001b[39magregar_productos(\u001b[38;5;124m'\u001b[39m\u001b[38;5;124mpantalon\u001b[39m\u001b[38;5;124m'\u001b[39m, \u001b[38;5;241m50\u001b[39m, \u001b[38;5;241m8\u001b[39m)\n\u001b[1;32m      4\u001b[0m mi_tienda\u001b[38;5;241m.\u001b[39magregar_productos(\u001b[38;5;124m'\u001b[39m\u001b[38;5;124mcamisa\u001b[39m\u001b[38;5;124m'\u001b[39m, \u001b[38;5;241m120\u001b[39m, \u001b[38;5;241m7\u001b[39m)\n",
      "Cell \u001b[0;32mIn[16], line 18\u001b[0m, in \u001b[0;36mTiendaOnline.agregar_productos\u001b[0;34m(self, nombre_producto, precio, cantidad)\u001b[0m\n\u001b[1;32m     16\u001b[0m     \u001b[38;5;66;03m#si no está, lo añade al inventario\u001b[39;00m\n\u001b[1;32m     17\u001b[0m \u001b[38;5;28mself\u001b[39m\u001b[38;5;241m.\u001b[39minventario\u001b[38;5;241m.\u001b[39mappend({\u001b[38;5;124m'\u001b[39m\u001b[38;5;124mnombre\u001b[39m\u001b[38;5;124m'\u001b[39m: nombre_producto,\u001b[38;5;124m'\u001b[39m\u001b[38;5;124mprecio\u001b[39m\u001b[38;5;124m'\u001b[39m: precio,\u001b[38;5;124m'\u001b[39m\u001b[38;5;124mcantidad\u001b[39m\u001b[38;5;124m'\u001b[39m: cantidad})\n\u001b[0;32m---> 18\u001b[0m \u001b[38;5;28mprint\u001b[39m(\u001b[38;5;124mf\u001b[39m\u001b[38;5;124m\"\u001b[39m\u001b[38;5;124mNombre: \u001b[39m\u001b[38;5;132;01m{\u001b[39;00mproducto[\u001b[38;5;124m'\u001b[39m\u001b[38;5;124mnombre\u001b[39m\u001b[38;5;124m'\u001b[39m]\u001b[38;5;132;01m}\u001b[39;00m\u001b[38;5;124m, Precio: $\u001b[39m\u001b[38;5;132;01m{\u001b[39;00mproducto[\u001b[38;5;124m'\u001b[39m\u001b[38;5;124mprecio\u001b[39m\u001b[38;5;124m'\u001b[39m]\u001b[38;5;132;01m}\u001b[39;00m\u001b[38;5;124m, Cantidad: \u001b[39m\u001b[38;5;132;01m{\u001b[39;00mproducto[\u001b[38;5;124m'\u001b[39m\u001b[38;5;124mcantidad\u001b[39m\u001b[38;5;124m'\u001b[39m]\u001b[38;5;132;01m}\u001b[39;00m\u001b[38;5;124m\"\u001b[39m)\n",
      "\u001b[0;31mUnboundLocalError\u001b[0m: local variable 'producto' referenced before assignment"
     ]
    }
   ],
   "source": [
    "mi_tienda = TiendaOnline(\"Mi Tienda Online\")\n",
    "mi_tienda.agregar_productos('camisa', 120, 5)\n",
    "mi_tienda.agregar_productos('pantalon', 50, 8)\n",
    "mi_tienda.agregar_productos('camisa', 120, 7)\n",
    "mi_tienda.ver_inventario()\n"
   ]
  }
 ],
 "metadata": {
  "kernelspec": {
   "display_name": "promoI",
   "language": "python",
   "name": "python3"
  },
  "language_info": {
   "codemirror_mode": {
    "name": "ipython",
    "version": 3
   },
   "file_extension": ".py",
   "mimetype": "text/x-python",
   "name": "python",
   "nbconvert_exporter": "python",
   "pygments_lexer": "ipython3",
   "version": "3.9.19"
  }
 },
 "nbformat": 4,
 "nbformat_minor": 2
}
